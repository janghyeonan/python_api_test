{
 "metadata": {
  "language_info": {
   "codemirror_mode": {
    "name": "ipython",
    "version": 3
   },
   "file_extension": ".py",
   "mimetype": "text/x-python",
   "name": "python",
   "nbconvert_exporter": "python",
   "pygments_lexer": "ipython3",
   "version": "3.7.3-final"
  },
  "orig_nbformat": 2,
  "kernelspec": {
   "name": "python_defaultSpec_1600097246117",
   "display_name": "Python 3.7.3 64-bit"
  }
 },
 "nbformat": 4,
 "nbformat_minor": 2,
 "cells": [
  {
   "cell_type": "code",
   "execution_count": 2,
   "metadata": {},
   "outputs": [],
   "source": [
    "import requests"
   ]
  },
  {
   "cell_type": "code",
   "execution_count": 1,
   "metadata": {},
   "outputs": [],
   "source": [
    "import requests\n",
    "import pytest\n",
    "\n",
    "def test_get_locations_for_us_90210_check_status_code_equals_200():\n",
    "     response = requests.get(\"http://localhost:5000/api/members\")\n",
    "     assert response.status_code == 200\n"
   ]
  },
  {
   "cell_type": "code",
   "execution_count": 2,
   "metadata": {
    "tags": []
   },
   "outputs": [
    {
     "output_type": "stream",
     "name": "stdout",
     "text": "<Response [200]>\n"
    }
   ],
   "source": [
    "response = requests.get(\"http://localhost:5000/api/members\")\n",
    "print(response)"
   ]
  },
  {
   "cell_type": "code",
   "execution_count": 3,
   "metadata": {
    "tags": []
   },
   "outputs": [
    {
     "output_type": "stream",
     "name": "stdout",
     "text": "[{\"id\":1,\"name\":\"test1\",\"email\":\"test@email.com\",\"status\":\"active\"},{\"id\":2,\"name\":\"test2\",\"email\":\"test2@email.com\",\"status\":\"inactive\"},{\"id\":3,\"name\":\"test3\",\"email\":\"test3@email.com\",\"status\":\"active\"},{\"id\":\"beba1022-104d-4bb4-a32a-669f9a200684\",\"name\":\"4\",\"email\":\"akj@naver.com\",\"status\":\"active\"},{\"id\":\"b31b6583-187e-4481-a8ba-86c715ac9e13\",\"name\":\"df\",\"email\":\"asdf@naver.com\",\"status\":\"active\"},{\"id\":\"c530d292-d474-4854-a073-5d775591a619\",\"name\":\"33\",\"email\":\"nety1@naver.com\",\"status\":\"active\"},{\"id\":\"34277646-3c40-44ae-b46b-f1988bb9cd15\",\"name\":\"John Doe\",\"email\":\"john@gmail.com\",\"status\":\"active\"},{\"id\":\"486091d7-eb95-4668-849d-51f95d43eca3\",\"name\":\"John Doe\",\"email\":\"john@gmail.com\",\"status\":\"active\"},{\"id\":\"aad429be-f9f6-4a3e-b87c-a9e99b830bd4\",\"name\":\"333\",\"email\":\"ajh910@naver.com\",\"status\":\"active\"}]\n{'X-Powered-By': 'Express', 'Content-Type': 'application/json; charset=utf-8', 'Content-Length': '826', 'ETag': 'W/\"33a-jF8a65rhQHG3fvgQ5vos1IeKo+E\"', 'Date': 'Mon, 14 Sep 2020 15:27:47 GMT', 'Connection': 'keep-alive'}\n200\nTrue\n"
    }
   ],
   "source": [
    "## parser.py\n",
    "##import requests\n",
    "\n",
    "## HTTP GET Request\n",
    "##req = requests.get('https://beomi.github.io/beomi.github.io_old/')\n",
    "\n",
    "## HTML 소스 가져오기\n",
    "html = response.text\n",
    "print(html)\n",
    "## HTTP Header 가져오기\n",
    "header = response.headers\n",
    "print(header)\n",
    "## HTTP Status 가져오기 (200: 정상)\n",
    "status = response.status_code\n",
    "print(status)\n",
    "## HTTP가 정상적으로 되었는지 (True/False)\n",
    "is_ok = response.ok\n",
    "print(is_ok)"
   ]
  },
  {
   "cell_type": "code",
   "execution_count": 5,
   "metadata": {
    "tags": []
   },
   "outputs": [],
   "source": [
    "import json\n",
    "\n",
    "dic = json.loads(html)"
   ]
  },
  {
   "cell_type": "code",
   "execution_count": 6,
   "metadata": {
    "tags": []
   },
   "outputs": [
    {
     "output_type": "stream",
     "name": "stdout",
     "text": "{'id': 1, 'name': 'test1', 'email': 'test@email.com', 'status': 'active'}\n{'id': 2, 'name': 'test2', 'email': 'test2@email.com', 'status': 'inactive'}\n{'id': 3, 'name': 'test3', 'email': 'test3@email.com', 'status': 'active'}\n{'id': 'beba1022-104d-4bb4-a32a-669f9a200684', 'name': '4', 'email': 'akj@naver.com', 'status': 'active'}\n{'id': 'b31b6583-187e-4481-a8ba-86c715ac9e13', 'name': 'df', 'email': 'asdf@naver.com', 'status': 'active'}\n{'id': 'c530d292-d474-4854-a073-5d775591a619', 'name': '33', 'email': 'nety1@naver.com', 'status': 'active'}\n{'id': '34277646-3c40-44ae-b46b-f1988bb9cd15', 'name': 'John Doe', 'email': 'john@gmail.com', 'status': 'active'}\n{'id': '486091d7-eb95-4668-849d-51f95d43eca3', 'name': 'John Doe', 'email': 'john@gmail.com', 'status': 'active'}\n{'id': 'aad429be-f9f6-4a3e-b87c-a9e99b830bd4', 'name': '333', 'email': 'ajh910@naver.com', 'status': 'active'}\n"
    }
   ],
   "source": [
    "for i in dic:\n",
    "    print(i)"
   ]
  },
  {
   "cell_type": "code",
   "execution_count": 14,
   "metadata": {
    "tags": []
   },
   "outputs": [
    {
     "output_type": "stream",
     "name": "stdout",
     "text": "test1\n"
    }
   ],
   "source": [
    "print(dic[0][\"name\"])"
   ]
  },
  {
   "cell_type": "code",
   "execution_count": null,
   "metadata": {},
   "outputs": [],
   "source": []
  }
 ]
}